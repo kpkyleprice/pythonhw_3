{
 "cells": [
  {
   "cell_type": "code",
   "execution_count": 15,
   "id": "9b18af28",
   "metadata": {},
   "outputs": [
    {
     "name": "stdout",
     "output_type": "stream",
     "text": [
      "{'year': 2018, 'make': 'chevrolet', 'model': 'silverado'}\n",
      "2018 chevrolet silverado\n"
     ]
    }
   ],
   "source": [
    "truck = {\n",
    "    'year' : 2018,\n",
    "    'make' : 'chevrolet',\n",
    "    'model' : 'silverado'\n",
    "}\n",
    "print(truck)\n",
    "print(f'{truck[\"year\"]} {truck[\"make\"]} {truck[\"model\"]}')"
   ]
  },
  {
   "cell_type": "code",
   "execution_count": 16,
   "id": "bdf89fa0",
   "metadata": {},
   "outputs": [
    {
     "name": "stdout",
     "output_type": "stream",
     "text": [
      "Max has blue eyes\n",
      "Lilly has brown eyes\n",
      "Mike has green eyes\n",
      "joe has brown eyes\n",
      "abby has white eyes\n"
     ]
    }
   ],
   "source": [
    "people = {\n",
    "    'Max' : 'blue',\n",
    "    'Lilly' : 'brown',\n",
    "    'Mike' : 'green',\n",
    "    'joe' : 'brown',\n",
    "    'abby' : 'white',\n",
    "}\n",
    "for key, value in people.items():\n",
    "    print(key, \"has\", value, \"eyes\")"
   ]
  },
  {
   "cell_type": "code",
   "execution_count": 5,
   "id": "5ce3d62c",
   "metadata": {},
   "outputs": [
    {
     "name": "stdout",
     "output_type": "stream",
     "text": [
      "Hello! What is your name?  Enter quit to leave  kyle\n",
      "Hi Kyle! What is your address? 123 main st\n",
      "Hello! What is your name?  Enter quit to leave  peter\n",
      "Hi Peter! What is your address? 31 spooner st\n",
      "Hello! What is your name?  Enter quit to leave  quit\n",
      "{'kyle': '123 main st', 'peter': '31 spooner st'}\n"
     ]
    }
   ],
   "source": [
    "info = {}\n",
    "while True:\n",
    "        user_name = input(\"Hello! What is your name? \" + \" Enter quit to leave  \")\n",
    "        if user_name == 'quit':\n",
    "            break\n",
    "        user_address = input(\"Hi \" + user_name.title() + \"!\" + \" What is your address? \" )\n",
    "        if user_address == 'quit':\n",
    "            break\n",
    "    \n",
    "        info[user_name] = user_address\n",
    "\n",
    "print(info)"
   ]
  },
  {
   "cell_type": "code",
   "execution_count": 4,
   "id": "ecf37c72",
   "metadata": {},
   "outputs": [
    {
     "name": "stdout",
     "output_type": "stream",
     "text": [
      "Welcome to my Grocery Store. Follow the prompts to shop.\n",
      "\n",
      "Please select an option: Quit Add Remove Show Empty add\n",
      "What would you like to add to your cart? milk\n",
      "Milk has been added to your shopping cart!\n",
      "Please select an option: Quit Add Remove Show Empty add\n",
      "What would you like to add to your cart? bread\n",
      "Bread has been added to your shopping cart!\n",
      "Please select an option: Quit Add Remove Show Empty show\n",
      "Your cart contains:\n",
      "Milk\n",
      "Bread\n",
      "Please select an option: Quit Add Remove Show Empty empty\n",
      "Your cart is now empty.\n",
      "Please select an option: Quit Add Remove Show Empty show\n",
      "Your cart is empty.\n",
      "Please select an option: Quit Add Remove Show Empty add\n",
      "What would you like to add to your cart? eggs\n",
      "Eggs has been added to your shopping cart!\n",
      "Please select an option: Quit Add Remove Show Empty add\n",
      "What would you like to add to your cart? chicken\n",
      "Chicken has been added to your shopping cart!\n",
      "Please select an option: Quit Add Remove Show Empty quit\n",
      "Thank you for shopping with us come back soon!\n",
      "Your cart contains:\n",
      "Eggs\n",
      "Chicken\n"
     ]
    }
   ],
   "source": [
    "print(\"Welcome to my Grocery Store. Follow the prompts to shop.\\n\")\n",
    "\n",
    "cart = []\n",
    "\n",
    "def add_item():\n",
    "    item = input(\"What would you like to add to your cart? \")\n",
    "    cart.append(item.title())\n",
    "    print(item.title() + \" has been added to your shopping cart!\")\n",
    "\n",
    "def remove_item():\n",
    "    item = input(\"What item would you like to remove from your cart? \")\n",
    "    try:\n",
    "        cart.remove(item.title())\n",
    "        print(item.title() + \" has been removed from your shopping cart.\")\n",
    "    except ValueError:\n",
    "        print(\"Sorry, we could not remove that item.\")\n",
    "\n",
    "def show_cart():\n",
    "    if cart:\n",
    "        print(\"Your cart contains:\")\n",
    "        for item in cart:\n",
    "            print(item)\n",
    "    else:\n",
    "        print(\"Your cart is empty.\")\n",
    "\n",
    "def empty_cart():\n",
    "    cart.clear()\n",
    "    print(\"Your cart is now empty.\")\n",
    "    \n",
    "def prompt():\n",
    "    done = False\n",
    "    \n",
    "    while not done:\n",
    "        response = input(\"Please select an option: \" + \"Quit \" + \"Add \" + \"Remove \" + \"Show \" + \"Empty \")\n",
    "         \n",
    "        if response == \"add\":\n",
    "            add_item()\n",
    "        elif response == \"remove\":\n",
    "            show_cart()\n",
    "            item = input(\"What would you like to remove from your cart? \")\n",
    "            remove_item()\n",
    "        elif response == \"show\":\n",
    "                show_cart()\n",
    "                \n",
    "        elif response == \"empty\":\n",
    "                empty_cart()\n",
    "\n",
    "        elif response == \"quit\":\n",
    "            print(\"Thank you for shopping with us come back soon!\")\n",
    "            show_cart()\n",
    "            done = True\n",
    "        \n",
    "        else:\n",
    "            print(\"Sorry that was not a valid option, please try again! \")        \n",
    "\n",
    "prompt()"
   ]
  },
  {
   "cell_type": "code",
   "execution_count": 24,
   "id": "84ecf9e3",
   "metadata": {},
   "outputs": [
    {
     "name": "stdout",
     "output_type": "stream",
     "text": [
      "What is the radius of your circle? 13\n",
      "81.679689933322\n",
      "None\n"
     ]
    }
   ],
   "source": [
    "import circumfrence\n",
    "\n",
    "print(circumfrence.circumfrences())"
   ]
  },
  {
   "cell_type": "code",
   "execution_count": 18,
   "id": "4f879854",
   "metadata": {},
   "outputs": [
    {
     "name": "stdout",
     "output_type": "stream",
     "text": [
      "Hello Mr/Ms {name}...we've been waiting for you!\n"
     ]
    }
   ],
   "source": [
    "import module\n",
    "\n",
    "print(module.printName('Kyle'))"
   ]
  },
  {
   "cell_type": "code",
   "execution_count": 23,
   "id": "32b50655",
   "metadata": {},
   "outputs": [
    {
     "name": "stdout",
     "output_type": "stream",
     "text": [
      "What is the length of your house in feet? 50\n",
      "What is the width of your house in feet? 27\n",
      "1350\n",
      "None\n"
     ]
    }
   ],
   "source": [
    "import square_feet\n",
    "\n",
    "print(square_feet.square_foot())"
   ]
  },
  {
   "cell_type": "code",
   "execution_count": null,
   "id": "7b64a733",
   "metadata": {},
   "outputs": [],
   "source": []
  },
  {
   "cell_type": "code",
   "execution_count": null,
   "id": "2d012d8e",
   "metadata": {},
   "outputs": [],
   "source": []
  }
 ],
 "metadata": {
  "kernelspec": {
   "display_name": "Python 3 (ipykernel)",
   "language": "python",
   "name": "python3"
  },
  "language_info": {
   "codemirror_mode": {
    "name": "ipython",
    "version": 3
   },
   "file_extension": ".py",
   "mimetype": "text/x-python",
   "name": "python",
   "nbconvert_exporter": "python",
   "pygments_lexer": "ipython3",
   "version": "3.10.8"
  }
 },
 "nbformat": 4,
 "nbformat_minor": 5
}
